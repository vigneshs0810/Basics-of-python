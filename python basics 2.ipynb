{
 "cells": [
  {
   "cell_type": "code",
   "execution_count": null,
   "id": "3500f1a0",
   "metadata": {},
   "outputs": [],
   "source": [
    "age=int(input(\"enter age:\"))\n",
    "if age>18:\n",
    "    print(\"you are aligible to vote\")\n",
    "elif age>=10:\n",
    "        print(\"you are less than 10 so you are note aligible to vote\")\n",
    "elif age>=18:\n",
    "        print(\"you are less than 20 so you are note aligible to vote\")\n",
    "    \n",
    "else:\n",
    "    print(\"you are note aligible to vote\")"
   ]
  },
  {
   "cell_type": "markdown",
   "id": "75a3c6d6",
   "metadata": {},
   "source": []
  },
  {
   "cell_type": "code",
   "execution_count": null,
   "id": "a2625828",
   "metadata": {},
   "outputs": [],
   "source": [
    "num=[2,6,2,4,1]\n",
    "sum=0\n",
    "for n in num:\n",
    "    sum=sum+n**2\n",
    "print(\"sum proof squre:\",sum)"
   ]
  },
  {
   "cell_type": "code",
   "execution_count": null,
   "id": "944a5fb7",
   "metadata": {},
   "outputs": [],
   "source": [
    "#for value in sequence\n",
    "a=\"hibro\"\n",
    "for i in a:\n",
    "    print(i)"
   ]
  },
  {
   "cell_type": "code",
   "execution_count": null,
   "id": "6b1457e9",
   "metadata": {},
   "outputs": [],
   "source": [
    "for i in range(1,11):\n",
    "    if i==6:\n",
    "        continue\n",
    "else:\n",
    "    print(i,end=\"\")"
   ]
  },
  {
   "cell_type": "code",
   "execution_count": null,
   "id": "c140c600",
   "metadata": {},
   "outputs": [],
   "source": [
    "for i in range(1,11):\n",
    "    if i==6:\n",
    "        break\n",
    "else:\n",
    "    print(i,end=\"\")"
   ]
  },
  {
   "cell_type": "code",
   "execution_count": null,
   "id": "b8e6a034",
   "metadata": {},
   "outputs": [],
   "source": [
    "i=0\n",
    "while i<10:\n",
    "    print(i)\n",
    "    i+=2"
   ]
  },
  {
   "cell_type": "code",
   "execution_count": null,
   "id": "668021c5",
   "metadata": {},
   "outputs": [],
   "source": [
    "#Built in functionned \n",
    "#absalute value\n",
    "negnum=int(input(\"number\"))\n",
    "print(abs(negnum))\n",
    "#round off\n",
    "roundnum=float(input(\"number\"))\n",
    "print(round(roundnum,2))\n"
   ]
  },
  {
   "cell_type": "code",
   "execution_count": null,
   "id": "b6e87ab3",
   "metadata": {},
   "outputs": [],
   "source": [
    "#power function\n",
    "a=pow(3,4)\n",
    "print(a)\n",
    "#pow(number,no of times,mod)\n",
    "b=pow(3,4,5)\n",
    "print(b)\n"
   ]
  },
  {
   "cell_type": "code",
   "execution_count": null,
   "id": "ea82588d",
   "metadata": {},
   "outputs": [],
   "source": [
    "class loop:\n",
    "    name=\"vicky\"\n",
    "    age=21\n",
    "    country=\"india\"\n",
    "print(dir(loop))\n",
    "#the below out puts are attributr,size....ext of class we can acess by print(init)\n",
    "\n",
    "\n"
   ]
  },
  {
   "cell_type": "code",
   "execution_count": null,
   "id": "adb34e39",
   "metadata": {},
   "outputs": [],
   "source": [
    "#insorting (variable,revers=true) for decending\n",
    "tup=(\"z\",\"b\",\"t\",\"v\")\n",
    "s=(2,7,8,9,3,5)\n",
    "print(sorted(tup,reverse=True))\n",
    "print(sorted(s,reverse=False))"
   ]
  },
  {
   "cell_type": "code",
   "execution_count": null,
   "id": "fd5d7249",
   "metadata": {},
   "outputs": [],
   "source": [
    "# max number\n",
    "num=(3789,7483473,43443,-2423)\n",
    "print(max(num))\n",
    "a=(\"loop\",\"vicky\",\"yoooo\",\"jack\")\n",
    "print(max(a))"
   ]
  },
  {
   "cell_type": "code",
   "execution_count": null,
   "id": "49bf83e3",
   "metadata": {},
   "outputs": [],
   "source": [
    "#round off\n",
    "num=round(236.409)\n",
    "print(num)\n",
    "nu=round(-236.409)\n",
    "print(nu)\n"
   ]
  },
  {
   "cell_type": "code",
   "execution_count": null,
   "id": "bcc2e0b4",
   "metadata": {},
   "outputs": [],
   "source": [
    "#length of a string\n",
    "s=[\"mac\",\"haley\",\"loop\",\"yogi\"]\n",
    "print(len(s))\n",
    "v=[\"Happy birth\"]\n",
    "print(len(v))"
   ]
  },
  {
   "cell_type": "code",
   "execution_count": null,
   "id": "b9928d99",
   "metadata": {},
   "outputs": [],
   "source": [
    "c=(2,3,4,5,6)\n",
    "print(sum(c,87))\n",
    "a=[2,3,4,5,6]\n",
    "print(sum(a,87))"
   ]
  },
  {
   "cell_type": "code",
   "execution_count": null,
   "id": "ea9b67fd",
   "metadata": {},
   "outputs": [],
   "source": [
    "help(print)\n",
    "help(dir)\n"
   ]
  },
  {
   "cell_type": "code",
   "execution_count": null,
   "id": "38e119b8",
   "metadata": {},
   "outputs": [],
   "source": [
    "# def function\n",
    "def square(num):\n",
    "    return num**2\n",
    "a=square(9)\n",
    "print(a)"
   ]
  },
  {
   "cell_type": "code",
   "execution_count": 5,
   "id": "85957cb0",
   "metadata": {},
   "outputs": [
    {
     "name": "stdout",
     "output_type": "stream",
     "text": [
      "[2025, 2704, 169]\n"
     ]
    }
   ],
   "source": [
    "# passing value by refference\n",
    "def square(a):\n",
    "    squares=[]\n",
    "     \n",
    "    return squares\n",
    "list_=[45,52,13] \n",
    "result=square(list_)\n",
    "print(result)"
   ]
  },
  {
   "cell_type": "code",
   "execution_count": null,
   "id": "c32c5258",
   "metadata": {},
   "outputs": [],
   "source": [
    "#lambda[argument1,[argument2........argumentn]:expression\n",
    "lambda[6,5]:+\n",
    "print"
   ]
  }
 ],
 "metadata": {
  "kernelspec": {
   "display_name": "Python 3 (ipykernel)",
   "language": "python",
   "name": "python3"
  },
  "language_info": {
   "codemirror_mode": {
    "name": "ipython",
    "version": 3
   },
   "file_extension": ".py",
   "mimetype": "text/x-python",
   "name": "python",
   "nbconvert_exporter": "python",
   "pygments_lexer": "ipython3",
   "version": "3.9.12"
  }
 },
 "nbformat": 4,
 "nbformat_minor": 5
}
