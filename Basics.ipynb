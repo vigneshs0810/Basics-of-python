{
  "nbformat": 4,
  "nbformat_minor": 0,
  "metadata": {
    "colab": {
      "name": "Untitled2.ipynb",
      "provenance": [],
      "collapsed_sections": []
    },
    "kernelspec": {
      "name": "python3",
      "display_name": "Python 3"
    },
    "language_info": {
      "name": "python"
    }
  },
  "cells": [
    {
      "cell_type": "code",
      "execution_count": 2,
      "metadata": {
        "id": "GSXv_3xktnrn",
        "colab": {
          "base_uri": "https://localhost:8080/"
        },
        "outputId": "268227eb-fc4e-4e58-f06d-1c888c88c3c8"
      },
      "outputs": [
        {
          "output_type": "stream",
          "name": "stdout",
          "text": [
            "<class 'int'>\n",
            "<class 'float'>\n",
            "<class 'complex'>\n"
          ]
        }
      ],
      "source": [
        "a=23\n",
        "b=3.3+1\n",
        "c=1+3j\n",
        "print(type(a))\n",
        "print(type(b))\n",
        "print(type(c))\n",
        "\n"
      ]
    },
    {
      "cell_type": "code",
      "source": [
        "a=23\n",
        "b=3.3+1\n",
        "c=1+3j\n",
        "print(type(a))\n",
        "print(type(b))\n",
        "print(type(c))"
      ],
      "metadata": {
        "colab": {
          "base_uri": "https://localhost:8080/"
        },
        "id": "PckUvAb40LNv",
        "outputId": "b459ca3b-86b4-4b37-e723-1f1f8d995a7a"
      },
      "execution_count": null,
      "outputs": [
        {
          "output_type": "stream",
          "name": "stdout",
          "text": [
            "<class 'int'>\n",
            "<class 'float'>\n",
            "<class 'complex'>\n"
          ]
        }
      ]
    },
    {
      "cell_type": "code",
      "source": [
        "str1=\"hey\"\n",
        "str2=\"hello\"\n",
        "print(str1[0:2])# slice operator\n",
        "str1=str1+str2\n",
        "print(str1[4])# 4th charector of string\n",
        "print(str1*2)#print the string twice\n",
        "print(str1 + str2)   #print the cocentration of str1 and str2"
      ],
      "metadata": {
        "colab": {
          "base_uri": "https://localhost:8080/"
        },
        "id": "_qlEXFu30kMf",
        "outputId": "8bf8f41f-9848-45fa-be4b-f32267f90c82"
      },
      "execution_count": null,
      "outputs": [
        {
          "output_type": "stream",
          "name": "stdout",
          "text": [
            "he\n",
            "e\n",
            "heyhelloheyhello\n",
            "heyhellohello\n"
          ]
        }
      ]
    },
    {
      "cell_type": "code",
      "source": [
        "list1=[1,\"hi\",\"python\",2]\n",
        "print(type(list1))\n",
        "print(list1)\n",
        "print(list1[3:])\n",
        "list1.append(\"book\")\n",
        "print(list1)\n",
        "list1.insert(4,\"mac\")\n",
        "\n",
        "\n",
        "\n"
      ],
      "metadata": {
        "colab": {
          "base_uri": "https://localhost:8080/"
        },
        "id": "6pZuXirD5MKy",
        "outputId": "f00267e2-77b8-4f33-a822-7787db48ae60"
      },
      "execution_count": null,
      "outputs": [
        {
          "output_type": "stream",
          "name": "stdout",
          "text": [
            "<class 'list'>\n",
            "[1, 'hi', 'python', 2]\n",
            "[2]\n",
            "[1, 'hi', 'python', 2, 'book']\n"
          ]
        }
      ]
    }
  ]
}